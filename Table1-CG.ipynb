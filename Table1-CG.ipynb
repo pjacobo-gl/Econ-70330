{
 "cells": [
  {
   "cell_type": "code",
   "execution_count": 2,
   "id": "8029a5e8-630f-4b08-8930-c433b6e3ded7",
   "metadata": {},
   "outputs": [
    {
     "name": "stderr",
     "output_type": "stream",
     "text": [
      "\u001b[32m\u001b[1m   Resolving\u001b[22m\u001b[39m package versions...\n",
      "\u001b[32m\u001b[1m    Updating\u001b[22m\u001b[39m `~/.julia/environments/v1.11/Project.toml`\n",
      "  \u001b[90m[1277b4bf] \u001b[39m\u001b[92m+ ShiftedArrays v2.0.0\u001b[39m\n",
      "\u001b[32m\u001b[1m  No Changes\u001b[22m\u001b[39m to `~/.julia/environments/v1.11/Manifest.toml`\n"
     ]
    }
   ],
   "source": [
    "# Set up: Install required packages, etc.\n",
    "# import Pkg; Pkg.add(\"DataFrames\")\n",
    "# import Pkg; Pkg.add(\"CSV\")\n",
    "# import Pkg; Pkg.add(\"StatFiles\")\n",
    "# import Pkg; Pkg.add(\"GLM\")\n",
    "# import Pkg; Pkg.add(\"CovarianceMatrices\")\n",
    "import Pkg; Pkg.add(\"ShiftedArrays\")"
   ]
  },
  {
   "cell_type": "code",
   "execution_count": null,
   "id": "30476292-3a7a-41aa-95bd-b1d31cfafdc3",
   "metadata": {},
   "outputs": [],
   "source": [
    "# Load and clean data\n",
    "using DataFrames, CSV, StatFiles\n",
    "us_data = DataFrame(load(\"us_data_updated.dta\"))"
   ]
  },
  {
   "cell_type": "code",
   "execution_count": 4,
   "id": "c6f7ba2d-0a37-4825-9baa-5bcb57e060b7",
   "metadata": {},
   "outputs": [
    {
     "ename": "LoadError",
     "evalue": "ArgumentError: Duplicate variable names: :ind_for, :0, :1, :2, :3 and :4. Pass makeunique=true to make them unique using a suffix automatically.",
     "output_type": "error",
     "traceback": [
      "ArgumentError: Duplicate variable names: :ind_for, :0, :1, :2, :3 and :4. Pass makeunique=true to make them unique using a suffix automatically.",
      "",
      "Stacktrace:",
      "  [1] \u001b[0m\u001b[1mmake_unique!\u001b[22m\u001b[0m\u001b[1m(\u001b[22m\u001b[90mnames\u001b[39m::\u001b[0mVector\u001b[90m{Symbol}\u001b[39m, \u001b[90msrc\u001b[39m::\u001b[0mVector\u001b[90m{Symbol}\u001b[39m; \u001b[90mmakeunique\u001b[39m::\u001b[0mBool\u001b[0m\u001b[1m)\u001b[22m",
      "\u001b[90m    @\u001b[39m \u001b[35mDataFrames\u001b[39m \u001b[90m~/.julia/packages/DataFrames/rwKZk/src/other/\u001b[39m\u001b[90m\u001b[4mutils.jl:99\u001b[24m\u001b[39m",
      "  [2] \u001b[0m\u001b[1mmake_unique!\u001b[22m",
      "\u001b[90m    @\u001b[39m \u001b[90m~/.julia/packages/DataFrames/rwKZk/src/other/\u001b[39m\u001b[90m\u001b[4mutils.jl:77\u001b[24m\u001b[39m\u001b[90m [inlined]\u001b[39m",
      "  [3] \u001b[0m\u001b[1m#make_unique#4\u001b[22m",
      "\u001b[90m    @\u001b[39m \u001b[90m~/.julia/packages/DataFrames/rwKZk/src/other/\u001b[39m\u001b[90m\u001b[4mutils.jl:121\u001b[24m\u001b[39m\u001b[90m [inlined]\u001b[39m",
      "  [4] \u001b[0m\u001b[1mmake_unique\u001b[22m",
      "\u001b[90m    @\u001b[39m \u001b[90m~/.julia/packages/DataFrames/rwKZk/src/other/\u001b[39m\u001b[90m\u001b[4mutils.jl:120\u001b[24m\u001b[39m\u001b[90m [inlined]\u001b[39m",
      "  [5] \u001b[0m\u001b[1m#Index#7\u001b[22m",
      "\u001b[90m    @\u001b[39m \u001b[90m~/.julia/packages/DataFrames/rwKZk/src/other/\u001b[39m\u001b[90m\u001b[4mindex.jl:27\u001b[24m\u001b[39m\u001b[90m [inlined]\u001b[39m",
      "  [6] \u001b[0m\u001b[1mIndex\u001b[22m",
      "\u001b[90m    @\u001b[39m \u001b[90m~/.julia/packages/DataFrames/rwKZk/src/other/\u001b[39m\u001b[90m\u001b[4mindex.jl:26\u001b[24m\u001b[39m\u001b[90m [inlined]\u001b[39m",
      "  [7] \u001b[0m\u001b[1mDataFrame\u001b[22m\u001b[0m\u001b[1m(\u001b[22m\u001b[90mcolumns\u001b[39m::\u001b[0mVector\u001b[90m{AbstractVector}\u001b[39m, \u001b[90mcnames\u001b[39m::\u001b[0mVector\u001b[90m{Symbol}\u001b[39m; \u001b[90mmakeunique\u001b[39m::\u001b[0mBool, \u001b[90mcopycols\u001b[39m::\u001b[0mBool\u001b[0m\u001b[1m)\u001b[22m",
      "\u001b[90m    @\u001b[39m \u001b[35mDataFrames\u001b[39m \u001b[90m~/.julia/packages/DataFrames/rwKZk/src/dataframe/\u001b[39m\u001b[90m\u001b[4mdataframe.jl:357\u001b[24m\u001b[39m",
      "  [8] \u001b[0m\u001b[1mcompose_inner_table\u001b[22m\u001b[0m\u001b[1m(\u001b[22m\u001b[90mjoiner\u001b[39m::\u001b[0mDataFrames.DataFrameJoiner, \u001b[90mmakeunique\u001b[39m::\u001b[0mBool, \u001b[90mleft_rename\u001b[39m::\u001b[0mtypeof(identity), \u001b[90mright_rename\u001b[39m::\u001b[0mtypeof(identity), \u001b[90morder\u001b[39m::\u001b[0mSymbol\u001b[0m\u001b[1m)\u001b[22m",
      "\u001b[90m    @\u001b[39m \u001b[35mDataFrames\u001b[39m \u001b[90m~/.julia/packages/DataFrames/rwKZk/src/join/\u001b[39m\u001b[90m\u001b[4mcomposer.jl:281\u001b[24m\u001b[39m",
      "  [9] \u001b[0m\u001b[1m_join\u001b[22m\u001b[0m\u001b[1m(\u001b[22m\u001b[90mdf1\u001b[39m::\u001b[0mDataFrame, \u001b[90mdf2\u001b[39m::\u001b[0mDataFrame; \u001b[90mon\u001b[39m::\u001b[0mVector\u001b[90m{Symbol}\u001b[39m, \u001b[90mkind\u001b[39m::\u001b[0mSymbol, \u001b[90mmakeunique\u001b[39m::\u001b[0mBool, \u001b[90mindicator\u001b[39m::\u001b[0mNothing, \u001b[90mvalidate\u001b[39m::\u001b[0mTuple\u001b[90m{Bool, Bool}\u001b[39m, \u001b[90mleft_rename\u001b[39m::\u001b[0mtypeof(identity), \u001b[90mright_rename\u001b[39m::\u001b[0mtypeof(identity), \u001b[90mmatchmissing\u001b[39m::\u001b[0mSymbol, \u001b[90morder\u001b[39m::\u001b[0mSymbol\u001b[0m\u001b[1m)\u001b[22m",
      "\u001b[90m    @\u001b[39m \u001b[35mDataFrames\u001b[39m \u001b[90m~/.julia/packages/DataFrames/rwKZk/src/join/\u001b[39m\u001b[90m\u001b[4mcomposer.jl:582\u001b[24m\u001b[39m",
      " [10] \u001b[0m\u001b[1m#innerjoin#691\u001b[22m",
      "\u001b[90m    @\u001b[39m \u001b[90m~/.julia/packages/DataFrames/rwKZk/src/join/\u001b[39m\u001b[90m\u001b[4mcomposer.jl:767\u001b[24m\u001b[39m\u001b[90m [inlined]\u001b[39m",
      " [11] top-level scope",
      "\u001b[90m    @\u001b[39m \u001b[90m\u001b[4mIn[4]:18\u001b[24m\u001b[39m"
     ]
    }
   ],
   "source": [
    "using DataFrames, StatFiles, ShiftedArrays\n",
    "\n",
    "# --- Load SPF data ---\n",
    "df = DataFrame(load(\"us_data_updated.dta\"))\n",
    "\n",
    "# Keep only SPF and inflation\n",
    "df_spf = filter(r -> r.forecsource == \"spf\" && r.forvar == \"pi\", df)\n",
    "\n",
    "# Keep only relevant variables\n",
    "df_spf = select(df_spf, [:timeseq, :year, :quarter, :fehor, :ind_fe, :ind_fr, :ind_for])\n",
    "\n",
    "# --- Reshape to wide (like reshape wide in Stata) ---\n",
    "df_fe  = unstack(df_spf, :fehor, :ind_fe)   # columns ind_fe0, ind_fe1, ...\n",
    "df_fr  = unstack(df_spf, :fehor, :ind_fr)\n",
    "df_for = unstack(df_spf, :fehor, :ind_for)\n",
    "\n",
    "# Merge reshaped pieces\n",
    "df_wide = innerjoin(df_fe, df_fr, on=[:timeseq, :year, :quarter])\n",
    "df_wide = innerjoin(df_wide, df_for, on=[:timeseq, :year, :quarter])\n",
    "\n",
    "# --- Generate compounded forecasts ---\n",
    "df_wide.ind_for_30 = ((df_wide.ind_for0 ./ 400 .+ 1) .* \n",
    "                      (df_wide.ind_for1 ./ 400 .+ 1) .* \n",
    "                      (df_wide.ind_for2 ./ 400 .+ 1) .* \n",
    "                      (df_wide.ind_for3 ./ 400 .+ 1) .- 1) .* 100\n",
    "\n",
    "df_wide.ind_for_41 = ((df_wide.ind_for1 ./ 400 .+ 1) .* \n",
    "                      (df_wide.ind_for2 ./ 400 .+ 1) .* \n",
    "                      (df_wide.ind_for3 ./ 400 .+ 1) .* \n",
    "                      (df_wide.ind_for4 ./ 400 .+ 1) .- 1) .* 100\n",
    "\n",
    "df_wide.ind_fe_30  = ((df_wide.ind_fe0 ./ 400 .+ 1) .* \n",
    "                      (df_wide.ind_fe1 ./ 400 .+ 1) .* \n",
    "                      (df_wide.ind_fe2 ./ 400 .+ 1) .* \n",
    "                      (df_wide.ind_fe3 ./ 400 .+ 1) .- 1) .* 100\n",
    "\n",
    "# --- Forecast revision variable ---\n",
    "df_wide.fr_30_41 = df_wide.ind_for_30 .- lag(df_wide.ind_for_41, 1)\n",
    "\n",
    "# --- Merge macro data ---\n",
    "macro = DataFrame(load(\"Macro-data-FRED.dta\"))\n",
    "df_merged = innerjoin(df_wide, macro, on=[:year, :quarter])\n",
    "\n",
    "# --- Create lagged macro controls ---\n",
    "df_merged.L_inf    = lag(df_merged.inflation_realtime, 1)\n",
    "df_merged.L_tb3ms  = lag(df_merged.tb3ms, 1)\n",
    "df_merged.L_unrate = lag(df_merged.unrate, 1)\n",
    "\n",
    "# Oil price variable\n",
    "df_merged.oilP = coalesce.(df_merged.oilprice, df_merged.mcoilwtico)\n",
    "\n",
    "# Lagged oil price differences\n",
    "df_merged.LD_oilP = log.(lag(df_merged.oilP, 1) ./ lag(df_merged.oilP, 2))\n",
    "\n",
    "# Final variable used later\n",
    "df_merged.L_inf4 = df_merged.ind_for_30\n",
    "\n",
    "# df_merged is now your cleaned dataset ready for regressions\n",
    "\n"
   ]
  }
 ],
 "metadata": {
  "kernelspec": {
   "display_name": "Julia 1.11.5",
   "language": "julia",
   "name": "julia-1.11"
  },
  "language_info": {
   "file_extension": ".jl",
   "mimetype": "application/julia",
   "name": "julia",
   "version": "1.11.5"
  }
 },
 "nbformat": 4,
 "nbformat_minor": 5
}
