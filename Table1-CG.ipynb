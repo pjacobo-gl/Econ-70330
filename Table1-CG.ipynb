{
 "cells": [
  {
   "cell_type": "code",
   "execution_count": null,
   "id": "8029a5e8-630f-4b08-8930-c433b6e3ded7",
   "metadata": {},
   "outputs": [],
   "source": [
    "# Set up: Install required packages, etc.\n",
    "# import Pkg; Pkg.add(\"DataFrames\")\n",
    "# import Pkg; Pkg.add(\"CSV\")\n",
    "# import Pkg; Pkg.add(\"StatFiles\")\n",
    "import Pkg; Pkg.add(\"GLM\")\n",
    "import Pkg; Pkg.add(\"CovarianceMatrices\")"
   ]
  },
  {
   "cell_type": "code",
   "execution_count": 7,
   "id": "30476292-3a7a-41aa-95bd-b1d31cfafdc3",
   "metadata": {},
   "outputs": [
    {
     "data": {
      "text/html": [
       "<div><div style = \"float: left;\"><span>12880×13 DataFrame</span></div><div style = \"float: right; font-style: italic;\"><span>12855 rows omitted</span></div><div style = \"clear: both;\"></div></div><div class = \"data-frame\" style = \"overflow-x: scroll;\"><table class = \"data-frame\" style = \"margin-bottom: 6px;\"><thead><tr class = \"columnLabelRow\"><th class = \"stubheadLabel\" style = \"font-weight: bold; text-align: right;\">Row</th><th style = \"text-align: left;\">year</th><th style = \"text-align: left;\">quarter</th><th style = \"text-align: left;\">ind_for</th><th style = \"text-align: left;\">timeseq</th><th style = \"text-align: left;\">forecsource</th><th style = \"text-align: left;\">fehor</th><th style = \"text-align: left;\">forvar</th><th style = \"text-align: left;\">ind_fe</th><th style = \"text-align: left;\">forecsourceN</th><th style = \"text-align: left;\">forvarN</th><th style = \"text-align: left;\">gg</th><th style = \"text-align: left;\">ind_fr</th><th style = \"text-align: left;\">id</th></tr><tr class = \"columnLabelRow\"><th class = \"stubheadLabel\" style = \"font-weight: bold; text-align: right;\"></th><th title = \"Union{Missing, Int16}\" style = \"text-align: left;\">Int16?</th><th title = \"Union{Missing, Int8}\" style = \"text-align: left;\">Int8?</th><th title = \"Union{Missing, Float64}\" style = \"text-align: left;\">Float64?</th><th title = \"Union{Missing, Int16}\" style = \"text-align: left;\">Int16?</th><th title = \"Union{Missing, String}\" style = \"text-align: left;\">String?</th><th title = \"Union{Missing, Int8}\" style = \"text-align: left;\">Int8?</th><th title = \"Union{Missing, String}\" style = \"text-align: left;\">String?</th><th title = \"Union{Missing, Float64}\" style = \"text-align: left;\">Float64?</th><th title = \"Union{Missing, Int8}\" style = \"text-align: left;\">Int8?</th><th title = \"Union{Missing, Int8}\" style = \"text-align: left;\">Int8?</th><th title = \"Union{Missing, Int8}\" style = \"text-align: left;\">Int8?</th><th title = \"Union{Missing, Float32}\" style = \"text-align: left;\">Float32?</th><th title = \"Union{Missing, Int16}\" style = \"text-align: left;\">Int16?</th></tr></thead><tbody><tr class = \"dataRow\"><td class = \"rowLabel\" style = \"font-weight: bold; text-align: right;\">1</td><td style = \"text-align: right;\">1968</td><td style = \"text-align: right;\">4</td><td style = \"text-align: right;\">0.452839</td><td style = \"text-align: right;\">36</td><td style = \"text-align: left;\">spf</td><td style = \"text-align: right;\">0</td><td style = \"text-align: left;\">cp</td><td style = \"text-align: right;\">2.69703</td><td style = \"text-align: right;\">0</td><td style = \"text-align: right;\">1</td><td style = \"text-align: right;\">1</td><td style = \"font-style: italic; text-align: right;\">missing</td><td style = \"text-align: right;\">1</td></tr><tr class = \"dataRow\"><td class = \"rowLabel\" style = \"font-weight: bold; text-align: right;\">2</td><td style = \"text-align: right;\">1969</td><td style = \"text-align: right;\">1</td><td style = \"text-align: right;\">-1.26247</td><td style = \"text-align: right;\">37</td><td style = \"text-align: left;\">spf</td><td style = \"text-align: right;\">0</td><td style = \"text-align: left;\">cp</td><td style = \"text-align: right;\">1.45608</td><td style = \"text-align: right;\">0</td><td style = \"text-align: right;\">1</td><td style = \"text-align: right;\">1</td><td style = \"text-align: right;\">-0.595361</td><td style = \"text-align: right;\">2</td></tr><tr class = \"dataRow\"><td class = \"rowLabel\" style = \"font-weight: bold; text-align: right;\">3</td><td style = \"text-align: right;\">1969</td><td style = \"text-align: right;\">2</td><td style = \"text-align: right;\">-0.134128</td><td style = \"text-align: right;\">38</td><td style = \"text-align: left;\">spf</td><td style = \"text-align: right;\">0</td><td style = \"text-align: left;\">cp</td><td style = \"text-align: right;\">-0.642574</td><td style = \"text-align: right;\">0</td><td style = \"text-align: right;\">1</td><td style = \"text-align: right;\">1</td><td style = \"text-align: right;\">0.292436</td><td style = \"text-align: right;\">3</td></tr><tr class = \"dataRow\"><td class = \"rowLabel\" style = \"font-weight: bold; text-align: right;\">4</td><td style = \"text-align: right;\">1969</td><td style = \"text-align: right;\">3</td><td style = \"text-align: right;\">-1.26488</td><td style = \"text-align: right;\">39</td><td style = \"text-align: left;\">spf</td><td style = \"text-align: right;\">0</td><td style = \"text-align: left;\">cp</td><td style = \"text-align: right;\">-2.42406</td><td style = \"text-align: right;\">0</td><td style = \"text-align: right;\">1</td><td style = \"text-align: right;\">1</td><td style = \"text-align: right;\">-0.130306</td><td style = \"text-align: right;\">4</td></tr><tr class = \"dataRow\"><td class = \"rowLabel\" style = \"font-weight: bold; text-align: right;\">5</td><td style = \"text-align: right;\">1969</td><td style = \"text-align: right;\">4</td><td style = \"text-align: right;\">-2.72118</td><td style = \"text-align: right;\">40</td><td style = \"text-align: left;\">spf</td><td style = \"text-align: right;\">0</td><td style = \"text-align: left;\">cp</td><td style = \"text-align: right;\">1.03693</td><td style = \"text-align: right;\">0</td><td style = \"text-align: right;\">1</td><td style = \"text-align: right;\">1</td><td style = \"text-align: right;\">-1.8555</td><td style = \"text-align: right;\">5</td></tr><tr class = \"dataRow\"><td class = \"rowLabel\" style = \"font-weight: bold; text-align: right;\">6</td><td style = \"text-align: right;\">1970</td><td style = \"text-align: right;\">1</td><td style = \"text-align: right;\">-3.2218</td><td style = \"text-align: right;\">41</td><td style = \"text-align: left;\">spf</td><td style = \"text-align: right;\">0</td><td style = \"text-align: left;\">cp</td><td style = \"text-align: right;\">-2.23212</td><td style = \"text-align: right;\">0</td><td style = \"text-align: right;\">1</td><td style = \"text-align: right;\">1</td><td style = \"text-align: right;\">-1.83092</td><td style = \"text-align: right;\">6</td></tr><tr class = \"dataRow\"><td class = \"rowLabel\" style = \"font-weight: bold; text-align: right;\">7</td><td style = \"text-align: right;\">1970</td><td style = \"text-align: right;\">2</td><td style = \"text-align: right;\">-2.09678</td><td style = \"text-align: right;\">42</td><td style = \"text-align: left;\">spf</td><td style = \"text-align: right;\">0</td><td style = \"text-align: left;\">cp</td><td style = \"text-align: right;\">0.514827</td><td style = \"text-align: right;\">0</td><td style = \"text-align: right;\">1</td><td style = \"text-align: right;\">1</td><td style = \"text-align: right;\">0.389567</td><td style = \"text-align: right;\">7</td></tr><tr class = \"dataRow\"><td class = \"rowLabel\" style = \"font-weight: bold; text-align: right;\">8</td><td style = \"text-align: right;\">1970</td><td style = \"text-align: right;\">3</td><td style = \"text-align: right;\">1.37006</td><td style = \"text-align: right;\">43</td><td style = \"text-align: left;\">spf</td><td style = \"text-align: right;\">0</td><td style = \"text-align: left;\">cp</td><td style = \"text-align: right;\">2.43087</td><td style = \"text-align: right;\">0</td><td style = \"text-align: right;\">1</td><td style = \"text-align: right;\">1</td><td style = \"text-align: right;\">0.19976</td><td style = \"text-align: right;\">8</td></tr><tr class = \"dataRow\"><td class = \"rowLabel\" style = \"font-weight: bold; text-align: right;\">9</td><td style = \"text-align: right;\">1970</td><td style = \"text-align: right;\">4</td><td style = \"text-align: right;\">-2.06353</td><td style = \"text-align: right;\">44</td><td style = \"text-align: left;\">spf</td><td style = \"text-align: right;\">0</td><td style = \"text-align: left;\">cp</td><td style = \"text-align: right;\">-6.95597</td><td style = \"text-align: right;\">0</td><td style = \"text-align: right;\">1</td><td style = \"text-align: right;\">1</td><td style = \"text-align: right;\">-3.77747</td><td style = \"text-align: right;\">9</td></tr><tr class = \"dataRow\"><td class = \"rowLabel\" style = \"font-weight: bold; text-align: right;\">10</td><td style = \"text-align: right;\">1971</td><td style = \"text-align: right;\">1</td><td style = \"text-align: right;\">5.09384</td><td style = \"text-align: right;\">45</td><td style = \"text-align: left;\">spf</td><td style = \"text-align: right;\">0</td><td style = \"text-align: left;\">cp</td><td style = \"text-align: right;\">8.2593</td><td style = \"text-align: right;\">0</td><td style = \"text-align: right;\">1</td><td style = \"text-align: right;\">1</td><td style = \"text-align: right;\">0.600787</td><td style = \"text-align: right;\">10</td></tr><tr class = \"dataRow\"><td class = \"rowLabel\" style = \"font-weight: bold; text-align: right;\">11</td><td style = \"text-align: right;\">1971</td><td style = \"text-align: right;\">2</td><td style = \"text-align: right;\">4.71915</td><td style = \"text-align: right;\">46</td><td style = \"text-align: left;\">spf</td><td style = \"text-align: right;\">0</td><td style = \"text-align: left;\">cp</td><td style = \"text-align: right;\">1.7626</td><td style = \"text-align: right;\">0</td><td style = \"text-align: right;\">1</td><td style = \"text-align: right;\">1</td><td style = \"text-align: right;\">1.34698</td><td style = \"text-align: right;\">11</td></tr><tr class = \"dataRow\"><td class = \"rowLabel\" style = \"font-weight: bold; text-align: right;\">12</td><td style = \"text-align: right;\">1971</td><td style = \"text-align: right;\">3</td><td style = \"text-align: right;\">4.65421</td><td style = \"text-align: right;\">47</td><td style = \"text-align: left;\">spf</td><td style = \"text-align: right;\">0</td><td style = \"text-align: left;\">cp</td><td style = \"text-align: right;\">-2.92257</td><td style = \"text-align: right;\">0</td><td style = \"text-align: right;\">1</td><td style = \"text-align: right;\">1</td><td style = \"text-align: right;\">4.25401</td><td style = \"text-align: right;\">12</td></tr><tr class = \"dataRow\"><td class = \"rowLabel\" style = \"font-weight: bold; text-align: right;\">13</td><td style = \"text-align: right;\">1971</td><td style = \"text-align: right;\">4</td><td style = \"text-align: right;\">2.91713</td><td style = \"text-align: right;\">48</td><td style = \"text-align: left;\">spf</td><td style = \"text-align: right;\">0</td><td style = \"text-align: left;\">cp</td><td style = \"text-align: right;\">0.0429166</td><td style = \"text-align: right;\">0</td><td style = \"text-align: right;\">1</td><td style = \"text-align: right;\">1</td><td style = \"text-align: right;\">-0.777591</td><td style = \"text-align: right;\">13</td></tr><tr><td style = \"text-align: right;\">&vellip;</td><td style = \"text-align: right;\">&vellip;</td><td style = \"text-align: right;\">&vellip;</td><td style = \"text-align: right;\">&vellip;</td><td style = \"text-align: right;\">&vellip;</td><td style = \"text-align: left;\">&vellip;</td><td style = \"text-align: right;\">&vellip;</td><td style = \"text-align: left;\">&vellip;</td><td style = \"text-align: right;\">&vellip;</td><td style = \"text-align: right;\">&vellip;</td><td style = \"text-align: right;\">&vellip;</td><td style = \"text-align: right;\">&vellip;</td><td style = \"text-align: right;\">&vellip;</td><td style = \"text-align: right;\">&vellip;</td></tr><tr class = \"dataRow\"><td class = \"rowLabel\" style = \"font-weight: bold; text-align: right;\">12869</td><td style = \"text-align: right;\">2011</td><td style = \"text-align: right;\">4</td><td style = \"text-align: right;\">9.64943</td><td style = \"text-align: right;\">208</td><td style = \"text-align: left;\">spf</td><td style = \"text-align: right;\">4</td><td style = \"text-align: left;\">ri</td><td style = \"text-align: right;\">8.82759</td><td style = \"text-align: right;\">0</td><td style = \"text-align: right;\">14</td><td style = \"text-align: right;\">70</td><td style = \"font-style: italic; text-align: right;\">missing</td><td style = \"text-align: right;\">12869</td></tr><tr class = \"dataRow\"><td class = \"rowLabel\" style = \"font-weight: bold; text-align: right;\">12870</td><td style = \"text-align: right;\">2012</td><td style = \"text-align: right;\">1</td><td style = \"text-align: right;\">11.2403</td><td style = \"text-align: right;\">209</td><td style = \"text-align: left;\">spf</td><td style = \"text-align: right;\">4</td><td style = \"text-align: left;\">ri</td><td style = \"text-align: right;\">0.737873</td><td style = \"text-align: right;\">0</td><td style = \"text-align: right;\">14</td><td style = \"text-align: right;\">70</td><td style = \"font-style: italic; text-align: right;\">missing</td><td style = \"text-align: right;\">12870</td></tr><tr class = \"dataRow\"><td class = \"rowLabel\" style = \"font-weight: bold; text-align: right;\">12871</td><td style = \"text-align: right;\">2012</td><td style = \"text-align: right;\">2</td><td style = \"text-align: right;\">10.1473</td><td style = \"text-align: right;\">210</td><td style = \"text-align: left;\">spf</td><td style = \"text-align: right;\">4</td><td style = \"text-align: left;\">ri</td><td style = \"text-align: right;\">3.35012</td><td style = \"text-align: right;\">0</td><td style = \"text-align: right;\">14</td><td style = \"text-align: right;\">70</td><td style = \"font-style: italic; text-align: right;\">missing</td><td style = \"text-align: right;\">12871</td></tr><tr class = \"dataRow\"><td class = \"rowLabel\" style = \"font-weight: bold; text-align: right;\">12872</td><td style = \"text-align: right;\">2012</td><td style = \"text-align: right;\">3</td><td style = \"text-align: right;\">11.3807</td><td style = \"text-align: right;\">211</td><td style = \"text-align: left;\">spf</td><td style = \"text-align: right;\">4</td><td style = \"text-align: left;\">ri</td><td style = \"text-align: right;\">-1.44433</td><td style = \"text-align: right;\">0</td><td style = \"text-align: right;\">14</td><td style = \"text-align: right;\">70</td><td style = \"font-style: italic; text-align: right;\">missing</td><td style = \"text-align: right;\">12872</td></tr><tr class = \"dataRow\"><td class = \"rowLabel\" style = \"font-weight: bold; text-align: right;\">12873</td><td style = \"text-align: right;\">2012</td><td style = \"text-align: right;\">4</td><td style = \"text-align: right;\">13.3419</td><td style = \"text-align: right;\">212</td><td style = \"text-align: left;\">spf</td><td style = \"text-align: right;\">4</td><td style = \"text-align: left;\">ri</td><td style = \"text-align: right;\">-21.515</td><td style = \"text-align: right;\">0</td><td style = \"text-align: right;\">14</td><td style = \"text-align: right;\">70</td><td style = \"font-style: italic; text-align: right;\">missing</td><td style = \"text-align: right;\">12873</td></tr><tr class = \"dataRow\"><td class = \"rowLabel\" style = \"font-weight: bold; text-align: right;\">12874</td><td style = \"text-align: right;\">2013</td><td style = \"text-align: right;\">1</td><td style = \"text-align: right;\">13.1928</td><td style = \"text-align: right;\">213</td><td style = \"text-align: left;\">spf</td><td style = \"text-align: right;\">4</td><td style = \"text-align: left;\">ri</td><td style = \"text-align: right;\">-19.0824</td><td style = \"text-align: right;\">0</td><td style = \"text-align: right;\">14</td><td style = \"text-align: right;\">70</td><td style = \"font-style: italic; text-align: right;\">missing</td><td style = \"text-align: right;\">12874</td></tr><tr class = \"dataRow\"><td class = \"rowLabel\" style = \"font-weight: bold; text-align: right;\">12875</td><td style = \"text-align: right;\">2013</td><td style = \"text-align: right;\">2</td><td style = \"text-align: right;\">13.3501</td><td style = \"text-align: right;\">214</td><td style = \"text-align: left;\">spf</td><td style = \"text-align: right;\">4</td><td style = \"text-align: left;\">ri</td><td style = \"font-style: italic; text-align: right;\">missing</td><td style = \"text-align: right;\">0</td><td style = \"text-align: right;\">14</td><td style = \"text-align: right;\">70</td><td style = \"font-style: italic; text-align: right;\">missing</td><td style = \"text-align: right;\">12875</td></tr><tr class = \"dataRow\"><td class = \"rowLabel\" style = \"font-weight: bold; text-align: right;\">12876</td><td style = \"text-align: right;\">2013</td><td style = \"text-align: right;\">3</td><td style = \"text-align: right;\">10.2887</td><td style = \"text-align: right;\">215</td><td style = \"text-align: left;\">spf</td><td style = \"text-align: right;\">4</td><td style = \"text-align: left;\">ri</td><td style = \"font-style: italic; text-align: right;\">missing</td><td style = \"text-align: right;\">0</td><td style = \"text-align: right;\">14</td><td style = \"text-align: right;\">70</td><td style = \"font-style: italic; text-align: right;\">missing</td><td style = \"text-align: right;\">12876</td></tr><tr class = \"dataRow\"><td class = \"rowLabel\" style = \"font-weight: bold; text-align: right;\">12877</td><td style = \"text-align: right;\">2013</td><td style = \"text-align: right;\">4</td><td style = \"text-align: right;\">11.9055</td><td style = \"text-align: right;\">216</td><td style = \"text-align: left;\">spf</td><td style = \"text-align: right;\">4</td><td style = \"text-align: left;\">ri</td><td style = \"font-style: italic; text-align: right;\">missing</td><td style = \"text-align: right;\">0</td><td style = \"text-align: right;\">14</td><td style = \"text-align: right;\">70</td><td style = \"font-style: italic; text-align: right;\">missing</td><td style = \"text-align: right;\">12877</td></tr><tr class = \"dataRow\"><td class = \"rowLabel\" style = \"font-weight: bold; text-align: right;\">12878</td><td style = \"text-align: right;\">2014</td><td style = \"text-align: right;\">1</td><td style = \"text-align: right;\">11.8276</td><td style = \"text-align: right;\">217</td><td style = \"text-align: left;\">spf</td><td style = \"text-align: right;\">4</td><td style = \"text-align: left;\">ri</td><td style = \"font-style: italic; text-align: right;\">missing</td><td style = \"text-align: right;\">0</td><td style = \"text-align: right;\">14</td><td style = \"text-align: right;\">70</td><td style = \"font-style: italic; text-align: right;\">missing</td><td style = \"text-align: right;\">12878</td></tr><tr class = \"dataRow\"><td class = \"rowLabel\" style = \"font-weight: bold; text-align: right;\">12879</td><td style = \"text-align: right;\">2014</td><td style = \"text-align: right;\">2</td><td style = \"text-align: right;\">11.351</td><td style = \"text-align: right;\">218</td><td style = \"text-align: left;\">spf</td><td style = \"text-align: right;\">4</td><td style = \"text-align: left;\">ri</td><td style = \"font-style: italic; text-align: right;\">missing</td><td style = \"text-align: right;\">0</td><td style = \"text-align: right;\">14</td><td style = \"text-align: right;\">70</td><td style = \"font-style: italic; text-align: right;\">missing</td><td style = \"text-align: right;\">12879</td></tr><tr class = \"dataRow\"><td class = \"rowLabel\" style = \"font-weight: bold; text-align: right;\">12880</td><td style = \"text-align: right;\">2014</td><td style = \"text-align: right;\">3</td><td style = \"text-align: right;\">9.95449</td><td style = \"text-align: right;\">219</td><td style = \"text-align: left;\">spf</td><td style = \"text-align: right;\">4</td><td style = \"text-align: left;\">ri</td><td style = \"font-style: italic; text-align: right;\">missing</td><td style = \"text-align: right;\">0</td><td style = \"text-align: right;\">14</td><td style = \"text-align: right;\">70</td><td style = \"font-style: italic; text-align: right;\">missing</td><td style = \"text-align: right;\">12880</td></tr></tbody></table></div>"
      ],
      "text/latex": [
       "\\begin{tabular}{r|cccccccccc}\n",
       "\t& year & quarter & ind\\_for & timeseq & forecsource & fehor & forvar & ind\\_fe & forecsourceN & \\\\\n",
       "\t\\hline\n",
       "\t& Int16? & Int8? & Float64? & Int16? & String? & Int8? & String? & Float64? & Int8? & \\\\\n",
       "\t\\hline\n",
       "\t1 & 1968 & 4 & 0.452839 & 36 & spf & 0 & cp & 2.69703 & 0 & $\\dots$ \\\\\n",
       "\t2 & 1969 & 1 & -1.26247 & 37 & spf & 0 & cp & 1.45608 & 0 & $\\dots$ \\\\\n",
       "\t3 & 1969 & 2 & -0.134128 & 38 & spf & 0 & cp & -0.642574 & 0 & $\\dots$ \\\\\n",
       "\t4 & 1969 & 3 & -1.26488 & 39 & spf & 0 & cp & -2.42406 & 0 & $\\dots$ \\\\\n",
       "\t5 & 1969 & 4 & -2.72118 & 40 & spf & 0 & cp & 1.03693 & 0 & $\\dots$ \\\\\n",
       "\t6 & 1970 & 1 & -3.2218 & 41 & spf & 0 & cp & -2.23212 & 0 & $\\dots$ \\\\\n",
       "\t7 & 1970 & 2 & -2.09678 & 42 & spf & 0 & cp & 0.514827 & 0 & $\\dots$ \\\\\n",
       "\t8 & 1970 & 3 & 1.37006 & 43 & spf & 0 & cp & 2.43087 & 0 & $\\dots$ \\\\\n",
       "\t9 & 1970 & 4 & -2.06353 & 44 & spf & 0 & cp & -6.95597 & 0 & $\\dots$ \\\\\n",
       "\t10 & 1971 & 1 & 5.09384 & 45 & spf & 0 & cp & 8.2593 & 0 & $\\dots$ \\\\\n",
       "\t11 & 1971 & 2 & 4.71915 & 46 & spf & 0 & cp & 1.7626 & 0 & $\\dots$ \\\\\n",
       "\t12 & 1971 & 3 & 4.65421 & 47 & spf & 0 & cp & -2.92257 & 0 & $\\dots$ \\\\\n",
       "\t13 & 1971 & 4 & 2.91713 & 48 & spf & 0 & cp & 0.0429166 & 0 & $\\dots$ \\\\\n",
       "\t14 & 1972 & 1 & 4.20926 & 49 & spf & 0 & cp & -1.13209 & 0 & $\\dots$ \\\\\n",
       "\t15 & 1972 & 2 & 4.38605 & 50 & spf & 0 & cp & -0.425132 & 0 & $\\dots$ \\\\\n",
       "\t16 & 1972 & 3 & 4.54042 & 51 & spf & 0 & cp & -0.503171 & 0 & $\\dots$ \\\\\n",
       "\t17 & 1972 & 4 & 4.08707 & 52 & spf & 0 & cp & 4.02782 & 0 & $\\dots$ \\\\\n",
       "\t18 & 1973 & 1 & 3.89171 & 53 & spf & 0 & cp & 6.49498 & 0 & $\\dots$ \\\\\n",
       "\t19 & 1973 & 2 & 3.14931 & 54 & spf & 0 & cp & 3.6403 & 0 & $\\dots$ \\\\\n",
       "\t20 & 1973 & 3 & -0.367702 & 55 & spf & 0 & cp & -1.12994 & 0 & $\\dots$ \\\\\n",
       "\t21 & 1973 & 4 & -0.667869 & 56 & spf & 0 & cp & 1.07855 & 0 & $\\dots$ \\\\\n",
       "\t22 & 1974 & 1 & -5.65729 & 57 & spf & 0 & cp & 18.4625 & 0 & $\\dots$ \\\\\n",
       "\t23 & 1974 & 2 & -1.53535 & 58 & spf & 0 & cp & 1.41509 & 0 & $\\dots$ \\\\\n",
       "\t24 & 1974 & 3 & -1.98207 & 59 & spf & 0 & cp & 14.6257 & 0 & $\\dots$ \\\\\n",
       "\t25 & 1974 & 4 & -10.6562 & 60 & spf & 0 & cp & -6.41617 & 0 & $\\dots$ \\\\\n",
       "\t26 & 1975 & 1 & -8.83674 & 61 & spf & 0 & cp & -13.7457 & 0 & $\\dots$ \\\\\n",
       "\t27 & 1975 & 2 & -2.53799 & 62 & spf & 0 & cp & 13.6429 & 0 & $\\dots$ \\\\\n",
       "\t28 & 1975 & 3 & 6.06375 & 63 & spf & 0 & cp & 10.6543 & 0 & $\\dots$ \\\\\n",
       "\t29 & 1975 & 4 & 5.51817 & 64 & spf & 0 & cp & -2.78202 & 0 & $\\dots$ \\\\\n",
       "\t30 & 1976 & 1 & 3.69492 & 65 & spf & 0 & cp & 3.59049 & 0 & $\\dots$ \\\\\n",
       "\t$\\dots$ & $\\dots$ & $\\dots$ & $\\dots$ & $\\dots$ & $\\dots$ & $\\dots$ & $\\dots$ & $\\dots$ & $\\dots$ &  \\\\\n",
       "\\end{tabular}\n"
      ],
      "text/plain": [
       "\u001b[1m12880×13 DataFrame\u001b[0m\n",
       "\u001b[1m   Row \u001b[0m│\u001b[1m year   \u001b[0m\u001b[1m quarter \u001b[0m\u001b[1m ind_for   \u001b[0m\u001b[1m timeseq \u001b[0m\u001b[1m forecsource \u001b[0m\u001b[1m fehor \u001b[0m\u001b[1m forvar  \u001b[0m\u001b[1m ind\u001b[0m ⋯\n",
       "\u001b[1m       \u001b[0m│\u001b[90m Int16? \u001b[0m\u001b[90m Int8?   \u001b[0m\u001b[90m Float64?  \u001b[0m\u001b[90m Int16?  \u001b[0m\u001b[90m String?     \u001b[0m\u001b[90m Int8? \u001b[0m\u001b[90m String? \u001b[0m\u001b[90m Flo\u001b[0m ⋯\n",
       "───────┼────────────────────────────────────────────────────────────────────────\n",
       "     1 │   1968        4   0.452839       36  spf              0  cp           ⋯\n",
       "     2 │   1969        1  -1.26247        37  spf              0  cp\n",
       "     3 │   1969        2  -0.134128       38  spf              0  cp\n",
       "     4 │   1969        3  -1.26488        39  spf              0  cp\n",
       "     5 │   1969        4  -2.72118        40  spf              0  cp           ⋯\n",
       "     6 │   1970        1  -3.2218         41  spf              0  cp\n",
       "     7 │   1970        2  -2.09678        42  spf              0  cp\n",
       "     8 │   1970        3   1.37006        43  spf              0  cp\n",
       "     9 │   1970        4  -2.06353        44  spf              0  cp           ⋯\n",
       "    10 │   1971        1   5.09384        45  spf              0  cp\n",
       "    11 │   1971        2   4.71915        46  spf              0  cp\n",
       "   ⋮   │   ⋮        ⋮         ⋮         ⋮          ⋮         ⋮       ⋮         ⋱\n",
       " 12871 │   2012        2  10.1473        210  spf              4  ri\n",
       " 12872 │   2012        3  11.3807        211  spf              4  ri           ⋯\n",
       " 12873 │   2012        4  13.3419        212  spf              4  ri\n",
       " 12874 │   2013        1  13.1928        213  spf              4  ri\n",
       " 12875 │   2013        2  13.3501        214  spf              4  ri      \u001b[90m mis\u001b[0m\n",
       " 12876 │   2013        3  10.2887        215  spf              4  ri      \u001b[90m mis\u001b[0m ⋯\n",
       " 12877 │   2013        4  11.9055        216  spf              4  ri      \u001b[90m mis\u001b[0m\n",
       " 12878 │   2014        1  11.8276        217  spf              4  ri      \u001b[90m mis\u001b[0m\n",
       " 12879 │   2014        2  11.351         218  spf              4  ri      \u001b[90m mis\u001b[0m\n",
       " 12880 │   2014        3   9.95449       219  spf              4  ri      \u001b[90m mis\u001b[0m ⋯\n",
       "\u001b[36m                                                6 columns and 12859 rows omitted\u001b[0m"
      ]
     },
     "execution_count": 7,
     "metadata": {},
     "output_type": "execute_result"
    }
   ],
   "source": [
    "# Load and clean data\n",
    "using DataFrames, CSV, StatFiles\n",
    "us_data = DataFrame(load(\"us_data_updated.dta\"))"
   ]
  },
  {
   "cell_type": "code",
   "execution_count": 11,
   "id": "c6f7ba2d-0a37-4825-9baa-5bcb57e060b7",
   "metadata": {},
   "outputs": [
    {
     "ename": "LoadError",
     "evalue": "UndefVarError: `vcov_hc` not defined in `Main`\nSuggestion: check for spelling errors or missing imports.",
     "output_type": "error",
     "traceback": [
      "UndefVarError: `vcov_hc` not defined in `Main`\nSuggestion: check for spelling errors or missing imports.",
      "",
      "Stacktrace:",
      " [1] top-level scope",
      "\u001b[90m   @\u001b[39m \u001b[90m\u001b[4mIn[11]:5\u001b[24m\u001b[39m"
     ]
    }
   ],
   "source": [
    "us_data = filter(r -> r.forecsource == \"spf\" && r.forvar == \"pi\", us_data)\n",
    "\n",
    "using GLM, CovarianceMatrices\n",
    "ols = lm(@formula(ind_fe ~ ind_fr), us_data[us_data.fehor .== 3, :])\n",
    "coeftable(ols, vcov = vcov_hc(ols, HC1))\n"
   ]
  }
 ],
 "metadata": {
  "kernelspec": {
   "display_name": "Julia 1.11.5",
   "language": "julia",
   "name": "julia-1.11"
  },
  "language_info": {
   "file_extension": ".jl",
   "mimetype": "application/julia",
   "name": "julia",
   "version": "1.11.5"
  }
 },
 "nbformat": 4,
 "nbformat_minor": 5
}
